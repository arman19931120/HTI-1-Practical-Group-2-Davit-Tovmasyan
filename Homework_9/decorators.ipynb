{
 "cells": [
  {
   "cell_type": "code",
   "execution_count": 17,
   "metadata": {},
   "outputs": [],
   "source": [
    "import time\n",
    "\n",
    "\n",
    "def warn_slow(time_limit=2):\n",
    "    \n",
    "    def wrapper(func):\n",
    "        \n",
    "        def inner(*args, **kwargs):\n",
    "\n",
    "            start = time.time()\n",
    "            result = func(*args, **kwargs)\n",
    "            delta = time.time() - start\n",
    "\n",
    "            if delta > time_limit:\n",
    "                print(f'{func.__name__} execution with {args}, {kwargs} arguments took more than {time_limit} seconds.')\n",
    "\n",
    "            return result\n",
    "\n",
    "        return inner\n",
    "    \n",
    "    return wrapper\n",
    "\n",
    "\n",
    "# def warn_slow(func):\n",
    "#     def inner(*args, **kwargs):\n",
    "        \n",
    "#         start = time.time()\n",
    "#         result = func(*args, **kwargs)\n",
    "#         delta = time.time() - start\n",
    "        \n",
    "#         if delta > 2:\n",
    "#             print(f'{func.__name__} execution with {args}, {kwargs} arguments took more than 2 seconds.')\n",
    "        \n",
    "#         return result\n",
    "    \n",
    "    \n",
    "#     return inner\n"
   ]
  },
  {
   "cell_type": "code",
   "execution_count": 18,
   "metadata": {},
   "outputs": [],
   "source": [
    "@warn_slow()\n",
    "def func1():\n",
    "    time.sleep(3)  # imitating a slow function\n",
    "\n",
    "\n",
    "\n",
    "# @decorator(time_limit=5)\n",
    "# def f():\n",
    "#     pass\n",
    "\n",
    "# f = warn_slow(time_limit=5)(f)\n",
    "\n",
    "\n",
    "    \n",
    "@warn_slow(time_limit=4)\n",
    "def func2(a, b):\n",
    "    time.sleep(5)\n",
    "    \n",
    "    return a + b"
   ]
  },
  {
   "cell_type": "code",
   "execution_count": 15,
   "metadata": {},
   "outputs": [
    {
     "name": "stdout",
     "output_type": "stream",
     "text": [
      "func1 execution with (), {} arguments took more than 2 seconds.\n"
     ]
    }
   ],
   "source": [
    "func1()"
   ]
  },
  {
   "cell_type": "code",
   "execution_count": 19,
   "metadata": {},
   "outputs": [
    {
     "name": "stdout",
     "output_type": "stream",
     "text": [
      "func2 execution with (10, 11), {} arguments took more than 4 seconds.\n",
      "21\n"
     ]
    }
   ],
   "source": [
    "result = func2(10, 11)\n",
    "\n",
    "print(result)"
   ]
  },
  {
   "cell_type": "code",
   "execution_count": 7,
   "metadata": {},
   "outputs": [
    {
     "name": "stdout",
     "output_type": "stream",
     "text": [
      "aa\n",
      "None\n"
     ]
    }
   ],
   "source": [
    "def f():\n",
    "    print('aa')\n",
    "    \n",
    "    \n",
    "print(f())"
   ]
  },
  {
   "cell_type": "code",
   "execution_count": 38,
   "metadata": {},
   "outputs": [],
   "source": [
    "def add(a, b):\n",
    "    return a + b\n",
    "\n",
    "def mul(a, b):\n",
    "    return a * b\n",
    "\n",
    "\n",
    "class FuncMaker:\n",
    "    def __init__(self, f):\n",
    "        self.f = f\n",
    "    \n",
    "    def __call__(self, *args, **kwargs):\n",
    "        return self.f(*args, **kwargs)\n",
    "\n",
    "# callable\n",
    "\n",
    "f_add = FuncMaker(add)\n",
    "f_mul = FuncMaker(mul)\n"
   ]
  },
  {
   "cell_type": "code",
   "execution_count": 34,
   "metadata": {},
   "outputs": [
    {
     "name": "stdout",
     "output_type": "stream",
     "text": [
      "21\n"
     ]
    }
   ],
   "source": [
    "print(f_add(10, 11))"
   ]
  },
  {
   "cell_type": "code",
   "execution_count": 35,
   "metadata": {},
   "outputs": [
    {
     "name": "stdout",
     "output_type": "stream",
     "text": [
      "16\n"
     ]
    }
   ],
   "source": [
    "print(f_mul(2, 8))"
   ]
  },
  {
   "cell_type": "code",
   "execution_count": 36,
   "metadata": {},
   "outputs": [
    {
     "name": "stdout",
     "output_type": "stream",
     "text": [
      "11\n"
     ]
    }
   ],
   "source": [
    "print(FuncMaker(add)(10, 1))"
   ]
  },
  {
   "cell_type": "code",
   "execution_count": null,
   "metadata": {},
   "outputs": [],
   "source": [
    "class WarnSlow:\n",
    "    def __init__(self, f):\n",
    "        self.f = f\n",
    "    \n",
    "    def __call__(self, *args, **kwargs):\n",
    "        start = time.time()\n",
    "        result = self.f(*args, **kwargs)\n",
    "        delta = time.time() - start\n",
    "\n",
    "        if delta > 2:\n",
    "            print(f'{self.f.__name__} execution with {args}, {kwargs} arguments took more than 2 seconds.')\n",
    "\n",
    "        return result\n",
    "\n",
    "\n",
    "@WarnSlow\n",
    "def func1():\n",
    "    time.sleep(3)  # imitating a slow function\n",
    "\n",
    "\n",
    "@WarnSlow\n",
    "def func2(a, b):\n",
    "    time.sleep(5)\n",
    "    \n",
    "    return a + b"
   ]
  }
 ],
 "metadata": {
  "kernelspec": {
   "display_name": "Python 3",
   "language": "python",
   "name": "python3"
  },
  "language_info": {
   "codemirror_mode": {
    "name": "ipython",
    "version": 3
   },
   "file_extension": ".py",
   "mimetype": "text/x-python",
   "name": "python",
   "nbconvert_exporter": "python",
   "pygments_lexer": "ipython3",
   "version": "3.8.4"
  }
 },
 "nbformat": 4,
 "nbformat_minor": 4
}
