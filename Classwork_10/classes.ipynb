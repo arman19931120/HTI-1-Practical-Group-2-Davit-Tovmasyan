{
 "cells": [
  {
   "cell_type": "code",
   "execution_count": 67,
   "metadata": {},
   "outputs": [],
   "source": [
    "# def f(fname, lname, j_date, gender, salary, l_date=None, passed=False, p_number=None):\n",
    "#     pass\n",
    "\n",
    "\n",
    "# f('David', 'Tovmasyan', '22.08.2014', 'M', '500$', passed=True)\n",
    "\n",
    "import datetime\n",
    "\n",
    "\n",
    "\n",
    "class Employee:\n",
    "    def __init__(self, fname, lname, j_date, gender, salary, email=None, l_date=None, passed=False, p_number=None):\n",
    "        self.first_name = fname\n",
    "        self.last_name = lname\n",
    "        self.join_date = j_date\n",
    "        self.leave_date = l_date\n",
    "        self._salary = salary\n",
    "        self.gender = gender\n",
    "        self.trial_passed = passed\n",
    "        self.phone_number = p_number\n",
    "        self._email = email\n",
    "        \n",
    "        #         self.full_name = self.first_name + ' ' + self.last_name\n",
    "    \n",
    "    @property\n",
    "    def salary(self):\n",
    "        return self._salary\n",
    "    \n",
    "    @salary.setter\n",
    "    def salary(self, new_salary):\n",
    "        self._salary = int(new_salary)\n",
    "        \n",
    "#     def increase_salary(self, percent):\n",
    "#         self.salary += self.salary * percent / 100\n",
    "    \n",
    "    @property\n",
    "    def full_name(self):\n",
    "        return self.first_name + ' ' + self.last_name\n",
    "    \n",
    "    \n",
    "#     def set_full_name(self, full_name):\n",
    "#         fname, lname = full_name.split()\n",
    "#         self.first_name = fname\n",
    "#         self.last_name = lname\n",
    "    \n",
    "    @full_name.setter\n",
    "    def full_name(self, full_name):\n",
    "        fname, lname = full_name.split()\n",
    "        self.first_name = fname\n",
    "        self.last_name = lname\n",
    "\n",
    "    @property\n",
    "    def email(self):\n",
    "        if self._email:\n",
    "            return self._email\n",
    "\n",
    "        return f'{self.first_name.lower()}.{self.last_name.lower()}@company.com'\n",
    "    \n",
    "    def employement_duration_days(self):\n",
    "        date_format = '%d.%m.%Y' \n",
    "        \n",
    "        join_date = datetime.datetime.strptime(self.join_date, date_format).date()\n",
    "\n",
    "        if self.leave_date:\n",
    "            leave_date = datetime.datetime.strptime(self.leave_date, date_format).date()\n",
    "        else:\n",
    "            leave_date = datetime.date.today()\n",
    "            \n",
    "        return (leave_date - join_date).days\n",
    "    \n",
    "    @property\n",
    "    def employement_duration(self):\n",
    "        days = self.employement_duration_days()\n",
    "        \n",
    "        if days < 180:\n",
    "            return 'Just started.'\n",
    "        elif days < 365:\n",
    "            return 'Almost a year.'\n",
    "        else:\n",
    "            return f'{days//365} years.'\n",
    "        \n",
    "    \n",
    "    "
   ]
  },
  {
   "cell_type": "code",
   "execution_count": 68,
   "metadata": {},
   "outputs": [],
   "source": [
    "emp1 = Employee('David', 'Tovmasyan', '22.08.2014', 'M', '500$', passed=True)\n",
    "\n",
    "emp2 = Employee(\n",
    "    'Tovmasyan', 'Davit', '10.01.2016', 'M', \n",
    "    '200000֏', passed=True, l_date='24.07.2020', p_number='077123456',\n",
    ")"
   ]
  },
  {
   "cell_type": "code",
   "execution_count": 69,
   "metadata": {},
   "outputs": [
    {
     "data": {
      "text/plain": [
       "1657"
      ]
     },
     "execution_count": 69,
     "metadata": {},
     "output_type": "execute_result"
    }
   ],
   "source": [
    "emp2.employement_duration_days()"
   ]
  },
  {
   "cell_type": "code",
   "execution_count": 55,
   "metadata": {},
   "outputs": [
    {
     "data": {
      "text/plain": [
       "'david.tovmasyan@company.com'"
      ]
     },
     "execution_count": 55,
     "metadata": {},
     "output_type": "execute_result"
    }
   ],
   "source": [
    "emp2.email"
   ]
  },
  {
   "cell_type": "code",
   "execution_count": 45,
   "metadata": {},
   "outputs": [],
   "source": [
    "emp2.first_name, emp2.last_name = emp2.last_name, emp2.first_name\n",
    "\n"
   ]
  },
  {
   "cell_type": "code",
   "execution_count": 49,
   "metadata": {},
   "outputs": [],
   "source": [
    "emp2.salary = 'hello'"
   ]
  },
  {
   "cell_type": "code",
   "execution_count": 27,
   "metadata": {},
   "outputs": [
    {
     "name": "stdout",
     "output_type": "stream",
     "text": [
      "Davit\n",
      "Davit Tovmasyan\n"
     ]
    }
   ],
   "source": [
    "print(emp2.first_name)\n",
    "print(emp2.full_name)"
   ]
  },
  {
   "cell_type": "code",
   "execution_count": 46,
   "metadata": {},
   "outputs": [
    {
     "name": "stdout",
     "output_type": "stream",
     "text": [
      "Davit Tovmasyan\n",
      "Davit\n",
      "Tovmasyan\n"
     ]
    }
   ],
   "source": [
    "print(emp2.full_name)\n",
    "\n",
    "# print(emp2.set_full_name('Davit Tovmasyan'))\n",
    "\n",
    "print(emp2.first_name)\n",
    "\n",
    "print(emp2.last_name)"
   ]
  },
  {
   "cell_type": "code",
   "execution_count": 83,
   "metadata": {},
   "outputs": [
    {
     "name": "stdout",
     "output_type": "stream",
     "text": [
      "Davit B\n"
     ]
    }
   ],
   "source": [
    "import datetime\n",
    "\n",
    "\n",
    "class Person:\n",
    "    def __init__(self, fname, lname, gender):\n",
    "        self.first_name = fname\n",
    "        self.last_name = lname\n",
    "        self.gender = gender\n",
    "        \n",
    "    @property\n",
    "    def full_name(self):\n",
    "        return self.first_name + ' ' + self.last_name\n",
    "    \n",
    "    @full_name.setter\n",
    "    def full_name(self, full_name):\n",
    "        fname, lname = full_name.split()\n",
    "        self.first_name = fname\n",
    "        self.last_name = lname\n",
    "\n",
    "\n",
    "        \n",
    "class Father(Person):\n",
    "    def __init__(self, fname, lname, children):\n",
    "        super().__init__(fname, lname, 'M')\n",
    "        self.children = children\n",
    "\n",
    "\n",
    "        \n",
    "papa = Father('Davit', 'B', ['Bob', 'Jim'])\n",
    "print(papa.full_name)\n",
    "# person = Person('Davit', 'Tovmasyan', 'M')\n",
    "\n",
    "# print(person.full_name)\n",
    "        \n",
    "\n",
    "class Employee(Person):\n",
    "    def __init__(self, fname, lname, j_date, gender, salary, email=None, l_date=None, passed=False, p_number=None):\n",
    "        super().__init__(fname, lname, gender)\n",
    "\n",
    "        self.join_date = j_date\n",
    "        self.leave_date = l_date\n",
    "        self._salary = salary\n",
    "        self.trial_passed = passed\n",
    "        self.phone_number = p_number\n",
    "        self._email = email\n",
    "        \n",
    "        #         self.full_name = self.first_name + ' ' + self.last_name\n",
    "    \n",
    "    @property\n",
    "    def salary(self):\n",
    "        return self._salary\n",
    "    \n",
    "    @salary.setter\n",
    "    def salary(self, new_salary):\n",
    "        self._salary = int(new_salary)\n",
    "        \n",
    "#     def increase_salary(self, percent):\n",
    "#         self.salary += self.salary * percent / 100\n",
    "    \n",
    "    @property\n",
    "    def email(self):\n",
    "        if self._email:\n",
    "            return self._email\n",
    "\n",
    "        return f'{self.first_name.lower()}.{self.last_name.lower()}@company.com'\n",
    "    \n",
    "    def employement_duration_days(self):\n",
    "        date_format = '%d.%m.%Y' \n",
    "        \n",
    "        join_date = datetime.datetime.strptime(self.join_date, date_format).date()\n",
    "\n",
    "        if self.leave_date:\n",
    "            leave_date = datetime.datetime.strptime(self.leave_date, date_format).date()\n",
    "        else:\n",
    "            leave_date = datetime.date.today()\n",
    "            \n",
    "        return (leave_date - join_date).days\n",
    "    \n",
    "    @property\n",
    "    def employement_duration(self):\n",
    "        days = self.employement_duration_days()\n",
    "        \n",
    "        if days < 180:\n",
    "            return 'Just started.'\n",
    "        elif days < 365:\n",
    "            return 'Almost a year.'\n",
    "        else:\n",
    "            return f'{days//365} years.'\n",
    "        \n",
    "    @staticmethod\n",
    "    def validate_phone_number(phone_number):\n",
    "        pass\n",
    "    \n",
    "    \n",
    "# emp1 = Employee(...)\n",
    "\n",
    "# emp1.validate_phone_number(input())\n",
    "\n",
    "# Employee.validate_phone_number('077123456')"
   ]
  },
  {
   "cell_type": "code",
   "execution_count": 80,
   "metadata": {},
   "outputs": [],
   "source": [
    "emp1 = Employee('David', 'Tovmasyan', '22.08.2014', 'M', '500$', passed=True)"
   ]
  },
  {
   "cell_type": "code",
   "execution_count": 81,
   "metadata": {},
   "outputs": [
    {
     "data": {
      "text/plain": [
       "'David Tovmasyan'"
      ]
     },
     "execution_count": 81,
     "metadata": {},
     "output_type": "execute_result"
    }
   ],
   "source": [
    "emp1.full_name"
   ]
  },
  {
   "cell_type": "code",
   "execution_count": 82,
   "metadata": {},
   "outputs": [],
   "source": [
    "emp1.first_name = 'Davit'"
   ]
  },
  {
   "cell_type": "code",
   "execution_count": 4,
   "metadata": {},
   "outputs": [],
   "source": [
    "\n",
    "\n",
    "class Circle:\n",
    "    _pi = 3.14\n",
    "\n",
    "    def __init__(self, radius):\n",
    "        self.radius = radius\n",
    "        \n",
    "    def area(self):\n",
    "        return self._pi * self.radius ** 2\n",
    "    \n",
    "    def perimeter(self):\n",
    "        return 2 * self._pi * self.radius\n",
    "    \n",
    "    "
   ]
  },
  {
   "cell_type": "code",
   "execution_count": 5,
   "metadata": {},
   "outputs": [
    {
     "name": "stdout",
     "output_type": "stream",
     "text": [
      "19.625\n",
      "62.800000000000004\n"
     ]
    }
   ],
   "source": [
    "c1 = Circle(2.5)\n",
    "c2 = Circle(10)\n",
    "\n",
    "print(c1.area())\n",
    "print(c2.perimeter())"
   ]
  },
  {
   "cell_type": "code",
   "execution_count": 8,
   "metadata": {},
   "outputs": [
    {
     "name": "stdout",
     "output_type": "stream",
     "text": [
      "0\n",
      "19.625\n",
      "62.800000000000004\n"
     ]
    }
   ],
   "source": [
    "print(Circle.pi)\n",
    "\n",
    "Circle.pi = 3.14\n",
    "\n",
    "print(c1.area())\n",
    "print(c2.perimeter())"
   ]
  },
  {
   "cell_type": "code",
   "execution_count": 16,
   "metadata": {},
   "outputs": [],
   "source": [
    "class Pizza(Circle):\n",
    "    def __init__(self, radius, ingredients):\n",
    "        super().__init__(radius)\n",
    "        self.ingredients = ingredients\n",
    "    \n",
    "    @classmethod\n",
    "    def vegi(cls, radius):\n",
    "        return cls(radius, ['tommato', 'cheese'])\n",
    "        \n",
    "        \n"
   ]
  },
  {
   "cell_type": "code",
   "execution_count": 31,
   "metadata": {},
   "outputs": [
    {
     "data": {
      "text/plain": [
       "314.0"
      ]
     },
     "execution_count": 31,
     "metadata": {},
     "output_type": "execute_result"
    }
   ],
   "source": [
    "vegi = Pizza(10, ['tommato', 'cheese'])\n",
    "\n",
    "vegi.area()"
   ]
  },
  {
   "cell_type": "code",
   "execution_count": 21,
   "metadata": {},
   "outputs": [],
   "source": [
    "vegi = Pizza.vegi(20)"
   ]
  },
  {
   "cell_type": "code",
   "execution_count": 22,
   "metadata": {},
   "outputs": [
    {
     "data": {
      "text/plain": [
       "1256.0"
      ]
     },
     "execution_count": 22,
     "metadata": {},
     "output_type": "execute_result"
    }
   ],
   "source": [
    "vegi.area()"
   ]
  },
  {
   "cell_type": "code",
   "execution_count": 19,
   "metadata": {},
   "outputs": [
    {
     "data": {
      "text/plain": [
       "['tommato', 'cheese']"
      ]
     },
     "execution_count": 19,
     "metadata": {},
     "output_type": "execute_result"
    }
   ],
   "source": [
    "vegi.ingredients"
   ]
  },
  {
   "cell_type": "code",
   "execution_count": 28,
   "metadata": {},
   "outputs": [
    {
     "data": {
      "text/plain": [
       "datetime.date(1970, 1, 2)"
      ]
     },
     "execution_count": 28,
     "metadata": {},
     "output_type": "execute_result"
    }
   ],
   "source": [
    "import datetime\n",
    "\n",
    "datetime.date.fromtimestamp(90000)"
   ]
  },
  {
   "cell_type": "code",
   "execution_count": 27,
   "metadata": {},
   "outputs": [
    {
     "data": {
      "text/plain": [
       "90000"
      ]
     },
     "execution_count": 27,
     "metadata": {},
     "output_type": "execute_result"
    }
   ],
   "source": [
    "25*60*60"
   ]
  },
  {
   "cell_type": "code",
   "execution_count": null,
   "metadata": {},
   "outputs": [],
   "source": []
  }
 ],
 "metadata": {
  "kernelspec": {
   "display_name": "Python 3",
   "language": "python",
   "name": "python3"
  },
  "language_info": {
   "codemirror_mode": {
    "name": "ipython",
    "version": 3
   },
   "file_extension": ".py",
   "mimetype": "text/x-python",
   "name": "python",
   "nbconvert_exporter": "python",
   "pygments_lexer": "ipython3",
   "version": "3.8.4"
  }
 },
 "nbformat": 4,
 "nbformat_minor": 4
}
