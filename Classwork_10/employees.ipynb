{
 "cells": [
  {
   "cell_type": "code",
   "execution_count": 14,
   "metadata": {},
   "outputs": [],
   "source": [
    "import datetime\n",
    "\n",
    "\n",
    "class Employee:\n",
    "    def __init__(self, fname, lname, j_date, gender, salary, l_date=None, passed=False, p_number=None):\n",
    "        self.first_name = fname\n",
    "        self.last_name = lname\n",
    "        self.join_date = j_date\n",
    "        self.leave_date = l_date\n",
    "        self.salary = salary\n",
    "        self.gender = gender\n",
    "        self.trial_passed = passed\n",
    "        self.phone_number = p_number\n",
    "\n",
    "    @property\n",
    "    def full_name(self):\n",
    "        return self.first_name + ' ' + self.last_name\n",
    "    \n",
    "    def employement_duration_days(self):\n",
    "        date_format = '%d.%m.%Y' \n",
    "        \n",
    "        join_date = datetime.datetime.strptime(self.join_date, date_format).date()\n",
    "\n",
    "        if self.leave_date:\n",
    "            leave_date = datetime.datetime.strptime(self.leave_date, date_format).date()\n",
    "        else:\n",
    "            leave_date = datetime.date.today()\n",
    "            \n",
    "        return (leave_date - join_date).days\n"
   ]
  },
  {
   "cell_type": "code",
   "execution_count": 8,
   "metadata": {},
   "outputs": [],
   "source": [
    "# with open('/Users/davittovmasyan/Desktop/employees.clean.csv') as f:\n",
    "#     for line in f.readlines():\n",
    "#         line.split(',')"
   ]
  },
  {
   "cell_type": "code",
   "execution_count": 15,
   "metadata": {},
   "outputs": [],
   "source": [
    "import csv\n",
    "\n",
    "\n",
    "def employees():\n",
    "    with open('/Users/davittovmasyan/Desktop/employees.clean.csv') as f:\n",
    "        reader = csv.reader(f)\n",
    "\n",
    "        for i, row in enumerate(reader):\n",
    "            if i == 0:\n",
    "                continue\n",
    "                \n",
    "#             if row[2].lower() == 'yes':\n",
    "#                 passed = True\n",
    "#             else:\n",
    "#                 passed = False\n",
    "                \n",
    "#             passed = True if row[2].lower() == 'yes' else False\n",
    "\n",
    "\n",
    "            yield Employee(\n",
    "                row[0],\n",
    "                row[1],\n",
    "                row[3],\n",
    "                row[-2],\n",
    "                int(row[-1]),\n",
    "                row[-3],\n",
    "                row[2].lower() == 'yes',\n",
    "            )"
   ]
  },
  {
   "cell_type": "code",
   "execution_count": 16,
   "metadata": {},
   "outputs": [
    {
     "name": "stdout",
     "output_type": "stream",
     "text": [
      "552831.007\n"
     ]
    }
   ],
   "source": [
    "count = 0\n",
    "total = 0\n",
    "\n",
    "for emp in employees():\n",
    "    total += emp.salary\n",
    "    count += 1\n",
    "\n",
    "\n",
    "print(total / count)"
   ]
  },
  {
   "cell_type": "code",
   "execution_count": 17,
   "metadata": {},
   "outputs": [
    {
     "name": "stdout",
     "output_type": "stream",
     "text": [
      "John Petrello 997885\n"
     ]
    }
   ],
   "source": [
    "emp_with_highest_salary = None\n",
    "\n",
    "for emp in employees():\n",
    "    if emp_with_highest_salary:\n",
    "        if emp.salary > emp_with_highest_salary.salary:\n",
    "            emp_with_highest_salary = emp\n",
    "    else:\n",
    "        emp_with_highest_salary = emp\n",
    "\n",
    "        \n",
    "\n",
    "print(emp_with_highest_salary.full_name, emp_with_highest_salary.salary)"
   ]
  },
  {
   "cell_type": "code",
   "execution_count": 19,
   "metadata": {},
   "outputs": [
    {
     "name": "stdout",
     "output_type": "stream",
     "text": [
      "31.963766666666668\n"
     ]
    }
   ],
   "source": [
    "total_duration = 0\n",
    "count = 0\n",
    "\n",
    "for employee in employees():\n",
    "    total_duration += employee.employement_duration_days()\n",
    "    count += 1\n",
    "\n",
    "print(total_duration/count/30)\n"
   ]
  },
  {
   "cell_type": "code",
   "execution_count": 20,
   "metadata": {},
   "outputs": [
    {
     "name": "stdout",
     "output_type": "stream",
     "text": [
      "482\n",
      "518\n"
     ]
    }
   ],
   "source": [
    "m_count = 0\n",
    "count = 0\n",
    "\n",
    "for employee in employees():\n",
    "    if employee.gender == 'M':\n",
    "        m_count += 1\n",
    "\n",
    "    count += 1\n",
    "    \n",
    "f_count = count - m_count\n",
    "\n",
    "print(m_count)\n",
    "print(f_count)"
   ]
  },
  {
   "cell_type": "code",
   "execution_count": 21,
   "metadata": {},
   "outputs": [],
   "source": [
    "m_percent = round(m_count/count*100)\n",
    "f_percent = round(f_count/count*100)"
   ]
  },
  {
   "cell_type": "code",
   "execution_count": 23,
   "metadata": {},
   "outputs": [
    {
     "name": "stdout",
     "output_type": "stream",
     "text": [
      "48 % 52 %\n"
     ]
    }
   ],
   "source": [
    "print(m_percent, '%', f_percent, '%')"
   ]
  },
  {
   "cell_type": "code",
   "execution_count": 24,
   "metadata": {},
   "outputs": [
    {
     "name": "stdout",
     "output_type": "stream",
     "text": [
      "M - ::::::::::::::::::::::::::::::::::::::::::::::::\n",
      "F - ::::::::::::::::::::::::::::::::::::::::::::::::::::\n"
     ]
    }
   ],
   "source": [
    "print('M -', ':' * m_percent)\n",
    "print('F -', ':' * f_percent)"
   ]
  },
  {
   "cell_type": "code",
   "execution_count": 31,
   "metadata": {},
   "outputs": [
    {
     "name": "stdout",
     "output_type": "stream",
     "text": [
      "10\n",
      "11\n",
      "12\n",
      "13\n",
      "14\n",
      "15\n",
      "16\n",
      "17\n",
      "18\n",
      "19\n"
     ]
    }
   ],
   "source": [
    "class Iterator:\n",
    "    def __init__(self, start, stop):\n",
    "        self.start = start\n",
    "        self.stop = stop\n",
    "        self.current = self.start\n",
    "    \n",
    "    def __next__(self):\n",
    "        if self.current >= self.stop:\n",
    "            raise StopIteration()\n",
    "        \n",
    "        result = self.current\n",
    "        self.current += 1\n",
    "        \n",
    "        return result\n",
    "\n",
    "\n",
    "\n",
    "class Iterable:\n",
    "    def __init__(self, start, stop):\n",
    "        self.start = start\n",
    "        self.stop = stop\n",
    "        \n",
    "    def __iter__(self):\n",
    "        return Iterator(self.start, self.stop)\n",
    "\n",
    "\n",
    "for num in Iterable(10, 20):\n",
    "    print(num)\n",
    "#     break"
   ]
  },
  {
   "cell_type": "code",
   "execution_count": 29,
   "metadata": {},
   "outputs": [
    {
     "data": {
      "text/plain": [
       "<list_iterator at 0x7fb0959e8880>"
      ]
     },
     "execution_count": 29,
     "metadata": {},
     "output_type": "execute_result"
    }
   ],
   "source": [
    "\n",
    "\n",
    "iterator = obj.__iter__()\n",
    "\n",
    "iterator.__next__()\n",
    "\n",
    "raise StopIteration()"
   ]
  },
  {
   "cell_type": "code",
   "execution_count": null,
   "metadata": {},
   "outputs": [],
   "source": [
    "def star(func):\n",
    "    def inner(*args, **kwargs):\n",
    "        print(\"*\" * 20)\n",
    "        func(*args, **kwargs)\n",
    "        print(\"*\" * 20)\n",
    "    return inner\n",
    "\n",
    "\n",
    "def percent(func):\n",
    "    def inner(*args, **kwargs):\n",
    "        print(\"%\" * 30)\n",
    "        func(*args, **kwargs)\n",
    "        print(\"%\" * 30)\n",
    "    return inner\n",
    "\n",
    "\n",
    "@star\n",
    "@percent\n",
    "def printer(msg):\n",
    "    print(msg)\n",
    "    \n",
    "# The above part is equivalent to\n",
    "# def printer(msg):\n",
    "#     print(msg)\n",
    "# printer = star(percent(printer))\n",
    "\n",
    "\n",
    "printer(\"Hello\")"
   ]
  }
 ],
 "metadata": {
  "kernelspec": {
   "display_name": "Python 3",
   "language": "python",
   "name": "python3"
  },
  "language_info": {
   "codemirror_mode": {
    "name": "ipython",
    "version": 3
   },
   "file_extension": ".py",
   "mimetype": "text/x-python",
   "name": "python",
   "nbconvert_exporter": "python",
   "pygments_lexer": "ipython3",
   "version": "3.8.4"
  }
 },
 "nbformat": 4,
 "nbformat_minor": 4
}
