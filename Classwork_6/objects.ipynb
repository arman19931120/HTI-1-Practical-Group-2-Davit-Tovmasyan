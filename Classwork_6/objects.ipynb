{
 "cells": [
  {
   "cell_type": "code",
   "execution_count": 6,
   "metadata": {},
   "outputs": [
    {
     "name": "stdout",
     "output_type": "stream",
     "text": [
      "140499790157136\n",
      "140499790156272\n"
     ]
    }
   ],
   "source": [
    "n = 2002\n",
    "m = n\n",
    "# m = n\n",
    "\n",
    "print(id(n))\n",
    "print(id(m))\n",
    "\n",
    "# n = 20\n",
    "\n",
    "# print(id(n))\n"
   ]
  },
  {
   "cell_type": "code",
   "execution_count": 8,
   "metadata": {},
   "outputs": [
    {
     "name": "stdout",
     "output_type": "stream",
     "text": [
      "140499790143168 140499790143168\n",
      "[1, 2, 3, 4]\n",
      "[1, 2, 3, 4]\n"
     ]
    }
   ],
   "source": [
    "a = [1, 2, 3]\n",
    "b = a\n",
    "\n",
    "print(id(a), id(b))\n",
    "\n",
    "b.append(4)\n",
    "\n",
    "print(a)\n",
    "print(b)"
   ]
  },
  {
   "cell_type": "code",
   "execution_count": 11,
   "metadata": {},
   "outputs": [
    {
     "name": "stdout",
     "output_type": "stream",
     "text": [
      "True\n",
      "True\n"
     ]
    }
   ],
   "source": [
    "n = 1029\n",
    "m = 1029\n",
    "\n",
    "\n",
    "print(n == m)\n",
    "print(n is m)\n",
    "\n",
    "\n"
   ]
  },
  {
   "cell_type": "code",
   "execution_count": null,
   "metadata": {},
   "outputs": [],
   "source": []
  },
  {
   "cell_type": "code",
   "execution_count": 12,
   "metadata": {},
   "outputs": [
    {
     "name": "stdout",
     "output_type": "stream",
     "text": [
      "x == y -> True\n",
      "x is y -> False\n"
     ]
    }
   ],
   "source": [
    "x = [1, 2, 3]\n",
    "y = [1, 2, 3]\n",
    "\n",
    "print(f'x == y -> {x == y}')\n",
    "print(f'x is y -> {x is y}')"
   ]
  },
  {
   "cell_type": "code",
   "execution_count": 13,
   "metadata": {},
   "outputs": [
    {
     "name": "stdout",
     "output_type": "stream",
     "text": [
      "4 in x -> True\n",
      "4 in y -> False\n"
     ]
    }
   ],
   "source": [
    "x = [1, 2, 3]\n",
    "y = [1, 2, 3]\n",
    "\n",
    "x.append(4)\n",
    "\n",
    "print(f'4 in x -> {4 in x}')\n",
    "print(f'4 in y -> {4 in y}')"
   ]
  },
  {
   "cell_type": "code",
   "execution_count": 14,
   "metadata": {},
   "outputs": [
    {
     "name": "stdout",
     "output_type": "stream",
     "text": [
      "a == b -> True\n",
      "a is b -> True\n"
     ]
    }
   ],
   "source": [
    "a = b = [1, 2, 3]\n",
    "\n",
    "print(f'a == b -> {a == b}')\n",
    "print(f'a is b -> {a is b}')"
   ]
  },
  {
   "cell_type": "code",
   "execution_count": 15,
   "metadata": {},
   "outputs": [
    {
     "name": "stdout",
     "output_type": "stream",
     "text": [
      "4 in a -> True\n",
      "4 in b -> True\n"
     ]
    }
   ],
   "source": [
    "a = b = [1, 2, 3]\n",
    "\n",
    "b.append(4)\n",
    "\n",
    "print(f'4 in a -> {4 in a}')\n",
    "print(f'4 in b -> {4 in b}')"
   ]
  },
  {
   "cell_type": "code",
   "execution_count": 16,
   "metadata": {},
   "outputs": [
    {
     "name": "stdout",
     "output_type": "stream",
     "text": [
      "func([2]) = [2, 1]\n",
      "func() = [1]\n",
      "func([]) = [1]\n",
      "func() = [1, 1]\n",
      "func() = [1, 1, 1]\n"
     ]
    }
   ],
   "source": [
    "# mutable default value for argument\n",
    "\n",
    "def func(x=[]):\n",
    "    x.append(1)\n",
    "    return x\n",
    "\n",
    "print(f'func([2]) = {func([2])}')  # [2, 1]     []\n",
    "\n",
    "print(f'func() = {func()}')  # [1]        [1]\n",
    "\n",
    "print(f'func([]) = {func([])}') # [1]       [1]\n",
    "\n",
    "print(f'func() = {func()}') # [1]          [1, 1]\n",
    "\n",
    "print(f'func() = {func()}') # [1]           [1, 1, 1]\n"
   ]
  },
  {
   "cell_type": "code",
   "execution_count": 17,
   "metadata": {},
   "outputs": [
    {
     "name": "stdout",
     "output_type": "stream",
     "text": [
      "func([2]) = [2, 1]\n",
      "func() = [1]\n",
      "func([]) = [1]\n",
      "func() = [1]\n",
      "func() = [1]\n"
     ]
    }
   ],
   "source": [
    "def func(x=None):\n",
    "    if x is None:\n",
    "        x = []\n",
    "    x.append(1)\n",
    "    return x\n",
    "\n",
    "print(f'func([2]) = {func([2])}')\n",
    "\n",
    "print(f'func() = {func()}')\n",
    "\n",
    "print(f'func([]) = {func([])}')\n",
    "\n",
    "print(f'func() = {func()}')\n",
    "\n",
    "print(f'func() = {func()}')"
   ]
  },
  {
   "cell_type": "code",
   "execution_count": 20,
   "metadata": {},
   "outputs": [
    {
     "name": "stdout",
     "output_type": "stream",
     "text": [
      "x -> 10\n"
     ]
    }
   ],
   "source": [
    "def func(x):\n",
    "    print(f'x -> {x}')\n",
    "\n",
    "func(10)"
   ]
  },
  {
   "cell_type": "code",
   "execution_count": 21,
   "metadata": {},
   "outputs": [
    {
     "name": "stdout",
     "output_type": "stream",
     "text": [
      "x -> 10\n",
      "x -> 11\n",
      "x -> 10\n"
     ]
    }
   ],
   "source": [
    "def func(x=10):\n",
    "    print(f'x -> {x}')\n",
    "\n",
    "func()\n",
    "func(11)\n",
    "func()"
   ]
  },
  {
   "cell_type": "code",
   "execution_count": 22,
   "metadata": {},
   "outputs": [
    {
     "name": "stdout",
     "output_type": "stream",
     "text": [
      "True\n",
      "False\n"
     ]
    }
   ],
   "source": [
    "lang = 'Python'\n",
    "\n",
    "print(lang == 'Python')\n",
    "print(lang != 'Python')"
   ]
  },
  {
   "cell_type": "code",
   "execution_count": 23,
   "metadata": {},
   "outputs": [
    {
     "name": "stdout",
     "output_type": "stream",
     "text": [
      "False\n",
      "True\n"
     ]
    }
   ],
   "source": [
    "nums = [3, 1, 2]\n",
    "\n",
    "nums.sort()\n",
    "\n",
    "print(nums == [3, 1, 2])\n",
    "print(nums == [1, 2, 3])"
   ]
  },
  {
   "cell_type": "code",
   "execution_count": null,
   "metadata": {},
   "outputs": [],
   "source": [
    "def f2(n):\n",
    "    print(f'n in f2 = {n}')\n",
    "\n",
    "    return n * 5\n",
    "\n",
    "\n",
    "def f1(n):\n",
    "    print(f'n in f1 = {n}')\n",
    "    \n",
    "    return 10 + f2(n)\n",
    "\n",
    "\n",
    "print(f'f2(5) = {f2(5)}')\n",
    "\n",
    "\n",
    "print(f'f1(5) = {f1(5)}')"
   ]
  },
  {
   "cell_type": "code",
   "execution_count": null,
   "metadata": {},
   "outputs": [],
   "source": []
  },
  {
   "cell_type": "code",
   "execution_count": null,
   "metadata": {},
   "outputs": [],
   "source": []
  },
  {
   "cell_type": "code",
   "execution_count": 18,
   "metadata": {},
   "outputs": [
    {
     "name": "stdout",
     "output_type": "stream",
     "text": [
      "y 11\n",
      "x 10\n"
     ]
    }
   ],
   "source": [
    "x = 10\n",
    "\n",
    "def func(y):\n",
    "    y = y + 1\n",
    "    print('y', y)  # 11\n",
    "    \n",
    "func(x)\n",
    "print('x', x)  # 10"
   ]
  },
  {
   "cell_type": "code",
   "execution_count": 19,
   "metadata": {},
   "outputs": [
    {
     "name": "stdout",
     "output_type": "stream",
     "text": [
      "b [1, 2, 3, 4]\n",
      "a [1, 2, 3, 4]\n"
     ]
    }
   ],
   "source": [
    "a = [1, 2, 3]\n",
    "\n",
    "\n",
    "def func(b):\n",
    "    b.append(4)\n",
    "    print('b', b) # 1234\n",
    "    \n",
    "func(a)\n",
    "print('a', a) # 1234"
   ]
  },
  {
   "cell_type": "code",
   "execution_count": 31,
   "metadata": {},
   "outputs": [
    {
     "name": "stdout",
     "output_type": "stream",
     "text": [
      "[1, 2, 3, 4]\n",
      "[1, 2, 3, 4, 5]\n"
     ]
    }
   ],
   "source": [
    "a = [1, 2, 3, 4]\n",
    "b = a.copy()\n",
    "\n",
    "b.append(5)\n",
    "\n",
    "print(a)\n",
    "print(b)\n",
    "\n",
    "def func(arg):\n",
    "    arg = arg.copy()\n",
    "\n",
    "\n",
    "some_list = [1, 2, 3]\n",
    "func(some_list)\n"
   ]
  },
  {
   "cell_type": "code",
   "execution_count": 33,
   "metadata": {},
   "outputs": [
    {
     "name": "stdout",
     "output_type": "stream",
     "text": [
      "4367396776 4367396808 4367474320\n",
      "4367396776 4367396808 4367474320\n"
     ]
    }
   ],
   "source": [
    "a = False \n",
    "b = True \n",
    "c = None\n",
    "\n",
    "print(id(a), id(b), id(c))\n",
    "\n",
    "d = False \n",
    "e = True \n",
    "f = None\n",
    "\n",
    "print(id(d), id(e), id(f))"
   ]
  },
  {
   "cell_type": "code",
   "execution_count": 37,
   "metadata": {},
   "outputs": [
    {
     "ename": "SyntaxError",
     "evalue": "invalid syntax (<ipython-input-37-1b05a812e1cb>, line 4)",
     "output_type": "error",
     "traceback": [
      "\u001b[0;36m  File \u001b[0;32m\"<ipython-input-37-1b05a812e1cb>\"\u001b[0;36m, line \u001b[0;32m4\u001b[0m\n\u001b[0;31m    if 'a' not in text and not in text2:\u001b[0m\n\u001b[0m                               ^\u001b[0m\n\u001b[0;31mSyntaxError\u001b[0m\u001b[0;31m:\u001b[0m invalid syntax\n"
     ]
    }
   ],
   "source": [
    "text = 'python'\n",
    "text2 = 'bbb'\n",
    "\n",
    "if 'a' not in (text + text2):\n",
    "    print('yes')\n"
   ]
  },
  {
   "cell_type": "code",
   "execution_count": null,
   "metadata": {},
   "outputs": [],
   "source": [
    "for i in range(10):\n",
    "    break_parent = False\n",
    "\n",
    "    for j in range(10):\n",
    "        if j == 1:\n",
    "            break_parent = True\n",
    "            break\n",
    "            \n",
    "    if break_parent:\n",
    "        break"
   ]
  }
 ],
 "metadata": {
  "kernelspec": {
   "display_name": "Python 3",
   "language": "python",
   "name": "python3"
  },
  "language_info": {
   "codemirror_mode": {
    "name": "ipython",
    "version": 3
   },
   "file_extension": ".py",
   "mimetype": "text/x-python",
   "name": "python",
   "nbconvert_exporter": "python",
   "pygments_lexer": "ipython3",
   "version": "3.8.4"
  }
 },
 "nbformat": 4,
 "nbformat_minor": 4
}
