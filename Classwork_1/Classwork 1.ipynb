{
 "cells": [
  {
   "cell_type": "code",
   "execution_count": 1,
   "metadata": {},
   "outputs": [
    {
     "name": "stdout",
     "output_type": "stream",
     "text": [
      "Enter a number:3\n",
      "999\n"
     ]
    }
   ],
   "source": [
    "# largest_number\n",
    "\n",
    "n = int(input('Enter a number:'))\n",
    "\n",
    "print('9' * n)"
   ]
  },
  {
   "cell_type": "code",
   "execution_count": 2,
   "metadata": {},
   "outputs": [
    {
     "name": "stdout",
     "output_type": "stream",
     "text": [
      "Enter a year:2020\n",
      "Yes\n"
     ]
    }
   ],
   "source": [
    "# is_leap\n",
    "year = int(input('Enter a year:'))\n",
    "\n",
    "if year % 4 != 0:\n",
    "    print('No')\n",
    "elif year % 100 != 0:\n",
    "    print('Yes')\n",
    "elif year % 400 == 0:\n",
    "    print('Yes')\n",
    "else:\n",
    "    print('No')"
   ]
  },
  {
   "cell_type": "code",
   "execution_count": 3,
   "metadata": {},
   "outputs": [
    {
     "name": "stdout",
     "output_type": "stream",
     "text": [
      "Enter a value:5\n",
      "Enter a value:4\n",
      "Enter a value:3\n",
      "Right triangle\n"
     ]
    }
   ],
   "source": [
    "# triangle\n",
    "a = int(input('Enter a value:'))\n",
    "b = int(input('Enter a value:'))\n",
    "c = int(input('Enter a value:'))\n",
    "\n",
    "if b >= a and b >= c:\n",
    "    a, b = b, a\n",
    "elif c >= a and c >= b:\n",
    "    a, c = c, a\n",
    "    \n",
    "if a >= b + c:\n",
    "    print('Not a triangle')\n",
    "elif a * a == b * b + c * c:\n",
    "    print('Right triangle')\n",
    "elif a * c < b * b + c * c:\n",
    "    print('Acute triangle')\n",
    "else:\n",
    "    print('Obtuse triangle')"
   ]
  },
  {
   "cell_type": "code",
   "execution_count": 4,
   "metadata": {},
   "outputs": [
    {
     "name": "stdout",
     "output_type": "stream",
     "text": [
      "Enter a number:4002\n",
      "8\n"
     ]
    }
   ],
   "source": [
    "# digit_product\n",
    "\n",
    "num = int(input('Enter a number: '))\n",
    "\n",
    "result = 1\n",
    "\n",
    "while num != 0:\n",
    "    digit = num % 10\n",
    "    if digit != 0:\n",
    "        result *= digit\n",
    "    \n",
    "    num = num // 10\n",
    "\n",
    "print(result)"
   ]
  },
  {
   "cell_type": "code",
   "execution_count": null,
   "metadata": {},
   "outputs": [],
   "source": []
  }
 ],
 "metadata": {
  "kernelspec": {
   "display_name": "Python 3",
   "language": "python",
   "name": "python3"
  },
  "language_info": {
   "codemirror_mode": {
    "name": "ipython",
    "version": 3
   },
   "file_extension": ".py",
   "mimetype": "text/x-python",
   "name": "python",
   "nbconvert_exporter": "python",
   "pygments_lexer": "ipython3",
   "version": "3.8.4"
  }
 },
 "nbformat": 4,
 "nbformat_minor": 4
}
